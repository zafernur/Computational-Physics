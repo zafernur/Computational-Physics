{
 "cells": [
  {
   "cell_type": "markdown",
   "metadata": {
    "id": "cCO6gahwv_PR"
   },
   "source": [
    "# Tutorial A: Getting started with Python\n",
    "Welcome to the first week of Computational Physics. The file in front of your is a python 'Notebook', which is an environment that combines live coding with text. During the course, we will supply the tutorials using these notebooks. The first week of the course does not come with formal lectures, but instead consists of three tutorials, aimed at making you familiar with the Python programming language. These tutorials are by no means meant as a complete introduction to Python: rather they should be seen as a brief introduction/reference that enables a further self-study where necessary. These first three tutorials are compiled using examples from freely available Python tutorials, which we link to at the end of this document.\n",
    "\n",
    "You can choose to run these notebooks in the cloud using Google Colaboratory (Colab), or on your own machine using the Jupyter Notebook software itself. Other options (not recommended) are to use an integrated development environment like Spyder, or write local Python scripts and run them from the command line/via an interpeter. We will assume you are using Colab throughout this course.\n",
    "\n",
    "Notebooks contain cells which can be edited. To edit a text cell, double click to enter Edit Mode. To edit a code cell, simply click on it. To execute a code cell, you can either press ctrl+Enter from within the cell. Alternatively, some run-options are found in the 'Runtime' menu at the top of the Colab interface.\n",
    "\n",
    "### Aims of this tutorial\n",
    "To get familiar with:\n",
    "- Basic python syntax, assigning data types\n",
    "- The programming environment, managing packages\n",
    "- Logical flow (i.e. loops) in Python\n",
    "- Defining functions\n",
    "\n",
    "### Some notes:\n",
    "* We tried to provide examples where possible. You should be careful with copying, you should not always copy the variable names literally.\n",
    "* The tutorial is quite long. If you are familiar with certain aspects, you are free to skip some parts. In the end, this crash course is only meant to get you familiar with the basics, not to bore you!\n"
   ]
  },
  {
   "cell_type": "markdown",
   "metadata": {
    "id": "AhOCyGrwv_PT"
   },
   "source": [
    "## Part I: Working with variables and data types\n",
    "\n"
   ]
  },
  {
   "cell_type": "markdown",
   "metadata": {
    "id": "Bk_2yqcz83Hv"
   },
   "source": [
    "### Getting to know the data types\n",
    "\n",
    "Python contains a number of different data types. These can be anything from integers and floating point numbers to textual strings. For some defined variable `var` (which you can assign a value by writing `var=<value>`) you can find out to which class it belongs by using the command `type(var)`. \n",
    "\n",
    "#### Exercise\n",
    "1. In the code cell below, assign each of the following values to a variable `var` and use the print function `print(type(var))` to study the underlying data type it belongs to.  You can use `shift+Enter` to execute the cell. \n",
    " - `1`\n",
    " - `1.0`\n",
    " - `1e10`\n",
    " - `1e-10`\n",
    " - `1 + 2j`\n",
    " - `[1, 2, 3]`\n",
    " - `(1, 2, 3)`\n",
    " - `'text'`\n",
    " - `True` (or `False`)\n",
    " - `None`\n",
    " - `{'somekey':'somevalue'}`\n",
    " "
   ]
  },
  {
   "cell_type": "code",
   "execution_count": 11,
   "metadata": {
    "colab": {
     "base_uri": "https://localhost:8080/"
    },
    "id": "OmmXDo-h-FyS",
    "outputId": "79c96d1a-03d2-49c3-edaf-943d51c61beb"
   },
   "outputs": [
    {
     "name": "stdout",
     "output_type": "stream",
     "text": [
      "<class 'NoneType'>\n",
      "<class 'complex'>\n",
      "2.0\n",
      "<class 'float'>\n",
      "1.0\n"
     ]
    }
   ],
   "source": [
    "# You can type your code here (click to edit ; ctrl+Enter to execute)\n",
    "\n",
    "# You can always insert more code/text cells by hovering your mouse near the end\n",
    "# of another cell\n",
    "\n",
    "var = None\n",
    "print(type(var))\n",
    "\n",
    "var2 = 1 + 2j\n",
    "print(type(var2))\n",
    "print(var2.imag)\n",
    "\n",
    "var3 = 1e-10\n",
    "print(type(var3))\n",
    "\n",
    "var4 = 1e10\n",
    "   \n",
    "print(var3 * var4)"
   ]
  },
  {
   "cell_type": "markdown",
   "metadata": {
    "id": "kjPliENw8y6Q"
   },
   "source": [
    "### Running some numbers\n",
    "This part of the tutorial is based on: https://docs.python.org/3/tutorial/introduction.html#numbers\n",
    "\n",
    "You will often use number manipulation in this course. Let's get familiar with basic calculation syntax: see the below list.\n",
    "\n",
    "- addition: `+`\n",
    "- subtraction: `-`\n",
    "- Multiplication: `*`\n",
    "- Raising to a power: `**` (and not `^` !)\n",
    "- Division: `/`\n",
    "- Floor division (nearest integer) `//`\n",
    "- Modulo: `%`\n",
    "\n",
    "#### Exercise\n",
    "1. Calculate `17/3`, `17//3`, `17%3` and `17**3` in the code cell below. \n",
    "\n",
    "2. You probably saw that not all values were returned. Unlike for example MATLAB, output is suppressed in python. Assign the different expressions to variables and use `print(variableName)` to print the value of your expressions. You can pass different variables to `print()` at the same time if you comma-separate them. \n",
    "\n",
    "3. Now, use `print(type())` again to display the data types and the values of the above three calculations.\n",
    "\n",
    "4. Use `round()` `ceil()` and `floor()` on the outcome of `17/3`.\n",
    "\n",
    "4. Repeat the above, but then using 18 as a base number, instead of 17. What can you tell on the behavior of the `/` operator?"
   ]
  },
  {
   "cell_type": "code",
   "execution_count": 9,
   "metadata": {
    "colab": {
     "base_uri": "https://localhost:8080/"
    },
    "id": "4P8uvt8hv_PV",
    "outputId": "764aacff-abd7-41e7-809f-b83d5664fc78"
   },
   "outputs": [
    {
     "name": "stdout",
     "output_type": "stream",
     "text": [
      "5.666666666666667\n",
      "6\n",
      "5\n",
      "2\n",
      "4913\n"
     ]
    }
   ],
   "source": [
    "# This line is required in order to use ceil and floor functions!\n",
    "# More on imports later.\n",
    "from math import ceil, floor\n",
    "print(17 / 3)\n",
    "print(round(17 / 3))\n",
    "print(17 // 3)\n",
    "print(17 % 3)\n",
    "print(17 ** 3)"
   ]
  },
  {
   "cell_type": "markdown",
   "metadata": {
    "id": "WUb_bESyv_Pc"
   },
   "source": [
    "#### Good to know:\n",
    "- Python also has built-in support for complex numbers (i.e. you can use 5+3j to set a complex part 3 to a real part 5). In fact, all numerical datatypes have a `real` and `imag` attribute that gives you the real and imaginary parts respectively. You can access these with `var.real` and `var.imag`.\n",
    "- Basic mathematics on mixed types (so 'int' and 'float' in Python, for example) should work properly. In other words: everything gets converted to float, if you use an expression like `5*3.0/2.3`. \n",
    "- Floats can also be written in exponential notation, e.g., `1e6`as you saw in the previous exercise. \n",
    "- Any number with a period will become a float, even if no numbers follow. For example: `1.` will be stored as a float.\n",
    "- Use `type` often to look for what data types are present in your code. This might help you to track down bugs."
   ]
  },
  {
   "cell_type": "markdown",
   "metadata": {
    "id": "0KY39SJEv_Pd"
   },
   "source": [
    "### Defining and manipulating strings\n",
    "This question contains examples from the original documentation: https://docs.python.org/3/tutorial/introduction.html#strings\n",
    "\n",
    "Although you will not use them as often throughout the course, it is often handy to understand how to define and manipulate strings of text within Python. Think of the handling of file names, writing files with specific layouts, or processing the contents of a file.\n",
    "\n",
    "#### Exercise\n",
    "1. Consider the string of text: *Isn't Computational Physics Great?* . Since it contains an apostrophe, a simple `someString='Isn't Computational Physics Great?'` will not work (try it below). Use either the `\\` symbol in front of the apostrophe, or double quotation marks to define `someString` and print the output.\n",
    "2. You can concatenate (combine) strings using the '+' operator. Try concatenating the strings `Computational` and `Physics` into a new string. How can you include a space between the two words?\n",
    "3. You can split strings using the `.split()` method that acts on the `string` class. Try it on the string *Isn't Computational Physics Great?* that you defined in the first point of this exercise. What is the resulting datatype? \n",
    " \n",
    " **Note:** By default, `split` separates at white space. You can provide an argument to split on occurrence of another character. For example, `string.split(\",\")` will split on occurrence of commas. This can be very handy when dealing with comma-separated values!\n",
    "4. Sometimes it is desired to print formatted strings, for example to display output in an organized way or to write help functions. Print the following strings:\n",
    " 1. \n",
    " ```\n",
    " stringA='''\n",
    " This string literal will span\n",
    " multiple lines\n",
    " ```\n",
    " ```\n",
    " including whitespace\n",
    " '''\n",
    " ```\n",
    "  ```\n",
    " stringB= '\\rThis string literal will span\\nmultiple lines\\n\\nincluding whitespace'\n",
    " ```\n",
    "  2. \n",
    "  ```\n",
    "  stringC = 'C:\\windows\\path\\names\\are\\rather\\tricky'\n",
    "  ```\n",
    "  ```\n",
    "  stringD = r'C:\\windows\\path\\names\\are\\rather\\tricky'\n",
    "  ```\n",
    "  3. \n",
    "  ```\n",
    "  stringE = f'The number is {someNumber}' # make sure do define someNumber first!\n",
    "  ``` \n",
    "  ```\n",
    "  stringF = 'The number is {}'.format(someNumber) # make sure do define someNumber first!\n",
    "  ``` \n",
    "\n"
   ]
  },
  {
   "cell_type": "code",
   "execution_count": 62,
   "metadata": {
    "colab": {
     "base_uri": "https://localhost:8080/"
    },
    "id": "f_tWb1vqv_Pe",
    "outputId": "5d58f9f6-29af-4990-a053-6cc3efd76731"
   },
   "outputs": [
    {
     "name": "stdout",
     "output_type": "stream",
     "text": [
      "Isn't Computational Physics Great?\n",
      "Isn't Computational Physics Great?\n",
      "Computational Physics\n",
      "Computational Physics\n",
      "['Computational', 'Physics'] \n",
      " <class 'list'>\n",
      "[\"Isn't\", ' Computational', ' Physics', ' Great'] \n",
      " <class 'list'>\n",
      "This string literal will span\n",
      "multiple lines\n",
      "including whitespace\n",
      "\n",
      "This string literal will span\n",
      "multiple lines\n",
      "including whitespace\n",
      "\n",
      "This string literal will span\n",
      "multiple lines\n",
      "\n",
      "including whitespace\n",
      "will span multiple lines\n",
      "including whitespace\n",
      "C:\\windows\\path\n",
      "ather\tricky\n",
      "C:\\windows\\path\\names\\are\\rather\\tricky\n",
      "The number is 571\n",
      "The number is 571\n",
      "..........\n"
     ]
    }
   ],
   "source": [
    "#You can write your code here.\n",
    "someString1 = 'Isn\\'t Computational Physics Great?'\n",
    "print(someString1)\n",
    "someString2 = \"Isn't Computational Physics Great?\"\n",
    "print(someString2)\n",
    "\n",
    "a = 'Computational'\n",
    "b = 'Physics'\n",
    "print(a + ' ' + b)\n",
    "c = 'Computational'\n",
    "d = ' Physics'\n",
    "e = c + d\n",
    "print(e)\n",
    "f = e.split()\n",
    "print(f, '\\n', type(f))\n",
    "g = 'Isn\\'t, Computational, Physics, Great'\n",
    "h = g.split(',')\n",
    "print(h, '\\n', type(h))\n",
    "\n",
    "stringA='''This string literal will span\n",
    "multiple lines\n",
    "including whitespace'''\n",
    "print(stringA)\n",
    "\n",
    "stringB = '''\n",
    "This string literal will span\n",
    "multiple lines\n",
    "including whitespace\n",
    "'''\n",
    "print(stringB)\n",
    "\n",
    "stringC= 'This string literal will span\\nmultiple lines\\n\\nincluding whitespace'\n",
    "print(stringC)\n",
    "\n",
    "stringD= 'This string literal\\rwill span multiple lines\\nincluding whitespace'\n",
    "print(stringD)\n",
    "\n",
    "stringE = 'C:\\windows\\path\\names\\are\\rather\\tricky'\n",
    "print(stringE)\n",
    "\n",
    "stringF = r'C:\\windows\\path\\names\\are\\rather\\tricky'\n",
    "print(stringF)\n",
    "\n",
    "someNumber = 571\n",
    "stringG = f'The number is {someNumber}' # make sure do define someNumber first!\n",
    "print(stringG)\n",
    "\n",
    "stringH = 'The number is {}'.format(someNumber)\n",
    "print(stringH)\n",
    "\n",
    "print('.' * 10)"
   ]
  },
  {
   "cell_type": "markdown",
   "metadata": {
    "id": "DuKthJ0pv_Pi"
   },
   "source": [
    "#### Good to know:\n",
    "- You can perform many additional (built-in) operations on strings, such as turning its contents to CAPITALS, counting the occurence of a specific sub-string, etc. For examples, see https://docs.python.org/3/library/stdtypes.html#string-methods or https://www.pythonforbeginners.com/basics/string-manipulation-in-python\n",
    "- You can also define strings using old (common) ways of formatting, see for example https://docs.python.org/3/library/stdtypes.html#old-string-formatting . This becomes handy when you want to combine different variables (of different types) into one string.\n",
    "- Just like lists (below) you can acces individual characters of a string by indexing. This is zero-based. For example, `string[0]` will give the first character of `string`.\n"
   ]
  },
  {
   "cell_type": "markdown",
   "metadata": {
    "id": "onUEhqQ1wFSD"
   },
   "source": [
    "### Python list basics\n",
    "\n",
    "1. Lists are groups of values. They are defined by square brackets `[` and `]`. Create a list `fibonacci` containing the first 10 entries of the Fibonacci sequence  \n",
    "```\n",
    "fibonacci = [1, 1, 2, 3, 5, 8, 13, 21, 34, 55]\n",
    "``` \n",
    "and print it to the screen.\n",
    "\n",
    "2. You can access individual entries in a list by indexing as follows: `list[index]`. Print the first, 5th and last entry of the Fibonacci sequence defined above. Note that you can count forward (starting from 0) or backward (starting from -1). Try both!\n",
    "\n",
    "3. You can also acces multiple entries at once by using `list[a:b]` or `list[a:b:c]`where `a` and `b` are indices as before, and `c` is a step size which is 1 if not specified. You can also leave out either `a`, `b` or both. Try this, and see what happens. Again, counting can be done forward or backward. What happens if `c` becomes negative?\n",
    "\n",
    "4. \n",
    " a. Make two 'copies' of your list: The first by `incorrectCopy = fibonacci` and another by `correctCopy = oldList[:]` or `correctCopy = oldList.copy()`. Print all three lists next to each other. (The names will become clear in the next subquestion.)\n",
    " \n",
    " b. You can change individual list entries by using `fibonacci[index]=newValue`. Multiple entries can also be updated similarly: `fibonacci[indexRange] = newValues`. Make some changes to your *copied* lists. After each change, print all three lists next to each other. What happens? \n",
    "\n",
    " **Note:** Python variables are actually pointers. So, when updating *mutable* variables (like lists) you should keep in mind that you're actually changing the object it points to! For other objects, like ints and floats, this will not happen. You can find out if variables point to the same object by evaluating `variable1 is variable2` (try it).\n",
    "\n",
    "5. Lists contain helpful methods like `list.append()`, `list.insert()` and `list.remove()`.  You can find out about how to use these by typing `help(list)` in an interactive Python environment (like Jupyter and Colaboratory). We will treat this further in the third tutorial of this week.\n",
    "\n",
    "\n",
    "**Note:** \n",
    " - You might be tempted to think of lists as vectors (especially if you are used to MATLAB), but note that each list entry can be of a different data types, and lists may even be nested. This may tempt you to use (nested) lists as matrices in calculations, but this is NOT good practice. It is much better to use the Numpy package (below) for this, as this is a streamlined package for vector calculations.\n",
    " - The `+` operator concatenates lists, e.g. `[1,2] + ['a','b']` will yield `[1,2,'a','b']`.\n",
    " - In Python, there is also a closely related built-in data structure, namely tuples (defined by `()`). These are the immutable versions of lists, you could say (i.e., you cannot change an element or append a number to a tuple).\n",
    " - More on lists in the third tutorial of this week.\n"
   ]
  },
  {
   "cell_type": "code",
   "execution_count": 4,
   "metadata": {
    "colab": {
     "base_uri": "https://localhost:8080/"
    },
    "id": "nS3DvcWEv_Pj",
    "outputId": "7d768c3f-703e-4436-d92d-7c6752f11d9a"
   },
   "outputs": [
    {
     "name": "stdout",
     "output_type": "stream",
     "text": [
      "[55, 21, 8, 3, 1]\n",
      "Incorrect copy of Fibonacci list: [1, 1, 2, 3, 5, 8, 13, 21, 34, 55]\n",
      "Correct copy of Fibonacci list: [1, 1, 2, 3, 5, 8, 13, 21, 34, 55]\n",
      "Second correct copy of Fibonacci list: [1, 1, 2, 3, 5, 8, 13, 21, 34, 55]\n",
      "[1, 1, 2, 3, 5, 8, 13, 21, 34, 55]\n",
      "[5, 1, 2, 3, 5, 8, 13, 21, 34, 55]\n",
      "==> False <==\n",
      "[1, 1, 2, 3, 5, 8, 13, 21, 34, 55]\n",
      "[3, 1, 2, 3, 5, 8, 13, 21, 34, 55]\n",
      "==> False <==\n",
      "[7, 1, 2, 3, 5, 8, 13, 21, 34, 55]\n",
      "[7, 1, 2, 3, 5, 8, 13, 21, 34, 55]\n",
      "==> True <==\n",
      "[1, 2, 'a', 'b', [1.2, '*'], '23']\n",
      "[1, 'a', 2, 'a', 'b', [1.2, '*'], '23']\n",
      "[1, 2, 'a', 'b', [1.2, '*'], '23']\n",
      "[1, 2, 'a', 'b', ['*'], '23']\n"
     ]
    }
   ],
   "source": [
    "### Working with Lists\n",
    "\n",
    "fibonacci=[1, 1, 2, 3, 5, 8, 13, 21, 34, 55]\n",
    "\n",
    "print(fibonacci[::-2])\n",
    "\n",
    "incorrectCopy = fibonacci\n",
    "print('Incorrect copy of Fibonacci list:', incorrectCopy)\n",
    "\n",
    "correctCopy = fibonacci[:]\n",
    "print('Correct copy of Fibonacci list:', correctCopy)\n",
    "\n",
    "correctCopy2 = fibonacci.copy()\n",
    "print('Second correct copy of Fibonacci list:', correctCopy2)\n",
    "\n",
    "correctCopy[0] = 5\n",
    "\n",
    "print(fibonacci)\n",
    "print(correctCopy)\n",
    "\n",
    "print('==>', fibonacci is correctCopy, '<==')\n",
    "\n",
    "correctCopy2[0] = 3\n",
    "\n",
    "print(fibonacci)\n",
    "print(correctCopy2)\n",
    "\n",
    "print('==>', fibonacci is correctCopy2, '<==')\n",
    "\n",
    "incorrectCopy[0] = 7\n",
    "\n",
    "print(fibonacci)\n",
    "print(incorrectCopy)\n",
    "\n",
    "print('==>', fibonacci is incorrectCopy, '<==')\n",
    "\n",
    "a = [1, 2, 'a', 'b', [1.2, '*']]\n",
    "\n",
    "a.append('23')\n",
    "print(a)\n",
    "\n",
    "a.insert(1, 'a') # it puts 'a' to the index:1\n",
    "print(a)\n",
    "\n",
    "a.remove('a') # it removes the 'a' which it find first.\n",
    "print(a)\n",
    "\n",
    "a[4].remove(1.2) # for nested lists, the nested list must be explicitly pointed  with its index.\n",
    "print(a)"
   ]
  },
  {
   "cell_type": "markdown",
   "metadata": {
    "id": "9CuIoCoNYO8v"
   },
   "source": [
    "### A short word on dictionaries (only if time allows)\n",
    "Another type of built-in data structures is the dictionary. These are related to lists, but instead of single values each entry consists of a `key:value` pair. In some cases, this can be very powerful, since to acces a certain value in the dictionary, you do not need to use indexing but you can use the corresponding key: `dict['key']`. \n",
    "\n",
    "#### Exercise\n",
    "1. Below is a dictionary containing the contact details of the some made-up people. Note that is actually a *list* of dictionaries! Try to extract the full name and age of each contact.\n",
    "Hint: you can loop trough the contacts using `for contact in contacts:`.\n",
    " ```\n",
    "contacts = [\n",
    "            {'First Name' : 'John', 'Last Name' : 'Doe', 'age' : 25},\n",
    "            {'First Name' : 'Jane', 'Last Name' : 'Doe', 'age' : 27},\n",
    "            {'First Name' : 'Richard', 'Last Name' : 'Roe', 'age' : 23}\n",
    "]\n",
    "            \n",
    " ```"
   ]
  },
  {
   "cell_type": "code",
   "execution_count": 13,
   "metadata": {
    "colab": {
     "base_uri": "https://localhost:8080/"
    },
    "id": "atSkLFx0as8b",
    "outputId": "2b8e00fd-8f58-4651-bb44-65dd8667831a"
   },
   "outputs": [
    {
     "name": "stdout",
     "output_type": "stream",
     "text": [
      "['John Doe 25', 'Jane Doe 27', 'Richard Roe 23']\n"
     ]
    }
   ],
   "source": [
    "contacts = [\n",
    "           {'First Name' : 'John', 'Last Name' : 'Doe', 'age' : 25},\n",
    "           {'First Name' : 'Jane', 'Last Name' : 'Doe', 'age' : 27},\n",
    "           {'First Name' : 'Richard', 'Last Name' : 'Roe', 'age' : 23}\n",
    "]\n",
    "\n",
    "name_age = []\n",
    "for contact in contacts:\n",
    "    name_age.append(contact['First Name'] + ' ' + contact['Last Name'] + ' ' + str(contact['age']))\n",
    "print(name_age)\n",
    "    "
   ]
  },
  {
   "cell_type": "markdown",
   "metadata": {
    "id": "clk0nyymK1nh"
   },
   "source": [
    "## Part II: Logical flow\n",
    "\n",
    "Logical flow is about executing statements orderly, repeatedly, and conditionally.\n",
    "\n"
   ]
  },
  {
   "cell_type": "markdown",
   "metadata": {
    "id": "8Xbbd8upv_Pp"
   },
   "source": [
    "### Boolean operators\n",
    "In Python, boolean variables can be defined as `True` or `False`, or as a result of a conditional operator. These operators include \n",
    "- `==` (equal to)\n",
    "- `>=` (greater than or equal), `<=` (lesser than or equal)\n",
    "- `>` (greater than), `<` (lesser than)\n",
    "- `!=` (not equal to)\n",
    "\n",
    "\n",
    "### If/Else\n",
    "Conditional if/else statements are written as \n",
    " ```\n",
    " if ConditionA:\n",
    "     # do A\n",
    " elif ConditionB:\n",
    "     # do B\n",
    " else:\n",
    "     # do something else\n",
    " # This is not part of the else block\n",
    " ```\n",
    " Note the use of the colon (:) here. These statements are the start of a coding block and the code following a statement should be indented by four spaces. Also note that, in contrast to MATLAB, there is no need to use an `end` statement.\n",
    " \n",
    " #### Exercise\n",
    " 1. Write an if/else construction that, given a number `x` prints to the screen whether the number is positive, negative or zero. \n",
    " 2. Booleans can be combined using the `and`, `or` and `not` keywords. Write a construction that prints to the screen whether a number `x` lies between `a` and `b`,  but only if `x` is positive.\n",
    "\n"
   ]
  },
  {
   "cell_type": "code",
   "execution_count": 9,
   "metadata": {},
   "outputs": [
    {
     "name": "stdin",
     "output_type": "stream",
     "text": [
      "Please enter a positive number: -5\n"
     ]
    },
    {
     "name": "stdout",
     "output_type": "stream",
     "text": [
      "-5.0 is not a positive number!\n"
     ]
    },
    {
     "name": "stdin",
     "output_type": "stream",
     "text": [
      "Please enter a positive number: 5\n",
      "Please enter a number as beginning of interval: 1\n",
      "Please enter a number as beginning of interval: 9\n"
     ]
    },
    {
     "name": "stdout",
     "output_type": "stream",
     "text": [
      "5.0 is between 1.0 and 9.0\n"
     ]
    }
   ],
   "source": [
    "# 2\n",
    "while True:\n",
    "        \n",
    "    x = float(input('Please enter a positive number:'))\n",
    "\n",
    "\n",
    "    if x < 0:\n",
    "        print(x, 'is not a positive number!')\n",
    "    else:\n",
    "        a = float(input('Please enter a number as beginning of interval:'))\n",
    "        b = float(input('Please enter a number as beginning of interval:'))   \n",
    "        if a < x < b:\n",
    "            print(x, 'is between', a, 'and', b)\n",
    "        else:\n",
    "            print(x, 'is not in the interval')\n",
    "        break"
   ]
  },
  {
   "cell_type": "code",
   "execution_count": 8,
   "metadata": {
    "colab": {
     "base_uri": "https://localhost:8080/"
    },
    "id": "uc7c-Jz4fGE4",
    "outputId": "362061f2-7ad3-47df-e943-356ff47311e6"
   },
   "outputs": [
    {
     "name": "stdin",
     "output_type": "stream",
     "text": [
      "please enter a number 0\n"
     ]
    },
    {
     "name": "stdout",
     "output_type": "stream",
     "text": [
      "It is zero\n"
     ]
    }
   ],
   "source": [
    "# 1\n",
    "y = int(input(\"please enter a number\"))\n",
    "\n",
    "if y < 0:\n",
    "    print('It is negative')\n",
    "elif y > 0:\n",
    "    print('It is positive')\n",
    "else:\n",
    "    print('It is zero')"
   ]
  },
  {
   "cell_type": "markdown",
   "metadata": {
    "id": "jyjMs-YCjr0w"
   },
   "source": [
    "### Loops\n",
    "\n",
    "#### For-loops\n",
    "\n",
    "For-loops are written in the following way:\n",
    " ```\n",
    "for var in Array:\n",
    "    # do something\n",
    "    # you can use the value of var in this code block\n",
    "    \n",
    "# Again no end statement is needed\n",
    "```\n",
    "\n",
    "1. In the place of `Array`, you can use many kinds of *iterators*, including lists, tuples, dictionairies and more. One particular example is the `range()` function, which generates a range of numbers to iterate over. Explore this function by looping over `range(7)`, `range(2,7)` and `range(2,7,3)` and printing the value of your iterating variable within each iteration. \n",
    " \n",
    " *Hint*: you can use the additional argument `end=' '` in your `print` function (or use a formatted string) to print the numbers on a single line. \n",
    " \n",
    "1. Use a for-loop to create a list containing the first 10 fibonacci numbers (using `range(10)`). You can use `list.append()` to add a number to an existing list.\n",
    "\n",
    "1. Using a `for`-loop, create a list called `squares` that contains the squares of the numbers 1 to 5.\n",
    "\n",
    "1. It is possible to loop over multiple iterators simultaneously. Some examples are dictionairies or the `enumerate` and `zip` functions. Using the syntax `for i, j in enumerate(squares):`, try to find out how this exactly works by printing `i` and `j` together. How is this different from nested loops?\n",
    "\n",
    "1. *Use a for-loop to create a list containing the first 10 fibonacci numbers (using `range(10)`). You can use `list.append()` to add a number to an existing list.\n",
    "\n"
   ]
  },
  {
   "cell_type": "code",
   "execution_count": 25,
   "metadata": {
    "colab": {
     "base_uri": "https://localhost:8080/"
    },
    "id": "d0S47UhokU0-",
    "outputId": "82523f7b-dc82-4c63-9ae7-4597ee56b271"
   },
   "outputs": [
    {
     "name": "stdout",
     "output_type": "stream",
     "text": [
      "[1, 1, 2, 3, 5, 8, 13, 21, 34, 55, 89, 144]\n",
      "[0, 1, 4, 9, 16]\n",
      "0 0\n",
      "1 1\n",
      "2 4\n",
      "3 9\n",
      "4 16\n"
     ]
    }
   ],
   "source": [
    "#1\n",
    "Fibonacci = [1, 1]\n",
    "\n",
    "\n",
    "for i in range(10):\n",
    "    Fibonacci.append(Fibonacci[i] + Fibonacci[i + 1])\n",
    "    \n",
    "print(Fibonacci)\n",
    "\n",
    "#2\n",
    "squares = []\n",
    "\n",
    "for i in range(1, 6):\n",
    "    squares.append(i**2)\n",
    "    \n",
    "print(squares)\n",
    "\n",
    "#3\n",
    "for i, j in enumerate(squares):\n",
    "    print(i, j)"
   ]
  },
  {
   "cell_type": "markdown",
   "metadata": {
    "id": "ioIVkIT2tdOn"
   },
   "source": [
    "#### While-loops, `break` and `continue`\n",
    "While loops are given by\n",
    " ```\n",
    "while Boolean:\n",
    "    # do something as long as Boolean is True\n",
    " ```\n",
    "\n",
    "While loops iterate as long a some condition is met. In scientific computing, this is particularly useful when a process should converge without knowing how many iterations (loop cycles) will be necessary to reach convergence. When convergence is reached (or in any other context some other condition is met), the loop will exit automatically. If required, it is also possible to fine-tune your loops using conditionals in combination with  `break` and `continue` statements. With `break`, a loop is exited while with `continue`, it jumps to the next iteration (ignoring the remainder of the code block in the current iteration. This works also for `for` loops.\n",
    "```\n",
    "while Boolean:\n",
    "    # ...\n",
    "    if someConditionToMoveToNextCycle:\n",
    "        continue\n",
    "    \n",
    "    if SomeConditionToEndThisWhileLoop:\n",
    "        break\n",
    " ```\n",
    "\n",
    "1. Use a while loop to generate all fibonacci numbers below 100.\n",
    "2. To mimmick a converging process, create a while loop that starting from a number `a`, divides the number repeatedly by `b` until a certain tolerance `tol` is reached. Implement stopping mechanism if a maximum number of iterations is reached. Print the number of divisions and a message saying whether convergence was reached or not. Can you do the same with a `for` loop?"
   ]
  },
  {
   "cell_type": "code",
   "execution_count": 37,
   "metadata": {
    "colab": {
     "base_uri": "https://localhost:8080/"
    },
    "id": "WyMa-tWatcxR",
    "outputId": "dcc0294c-6ed4-4e6e-8340-113699de3d7a"
   },
   "outputs": [
    {
     "name": "stdout",
     "output_type": "stream",
     "text": [
      "[1, 1, 2, 3, 5, 8, 13, 21, 34, 55, 89]\n"
     ]
    }
   ],
   "source": [
    "#1\n",
    "Fibonacci = [1, 1]\n",
    "i = 0\n",
    "while (Fibonacci[i] + Fibonacci[i + 1]) < 100:\n",
    "    Fibonacci.append(Fibonacci[i] + Fibonacci[i + 1])\n",
    "    i = i + 1\n",
    "print(Fibonacci)"
   ]
  },
  {
   "cell_type": "markdown",
   "metadata": {
    "id": "CTz8_kZgv_Pn"
   },
   "source": [
    "## Part III: The programming environment\n",
    "\n",
    "\n",
    "\n",
    "### Importing packages\n",
    "Next to the built-in functionality, additional modules and packages can be loaded into Python using the `import` statement. An example is the `math` module that contains mathematical functions which can be used after the module is loaded. \n",
    "An example is shown in the following code\n",
    " ``` \n",
    "import math\n",
    "x = math.pi # functions etc. are accessible by prepending with math.\n",
    "y = math.sin(x)\n",
    "print(x, y) \n",
    "\n",
    "import numpy as np # we may now use shorthand notation np instead of numpy\n",
    "x = np.pi # functions etc. are accessible by prepending with np.\n",
    "y = np.sin(x)\n",
    "print(x, y) \n",
    "```\n",
    "\n",
    "Both the `math` module and the `numpy` module contain the constant of pi and the sine function, which become accessible after loading the module.  NumPy (Numerical Python) is an often used package in scientific computing and discussed briefly below (it will be treated in more detail during the third tutorial of this week).\n",
    "\n",
    "**Note:** It is possible to load specific functions directly in your workspace by using `from MODULE import *` or `from MODULE import function` (see example below) but this is not recommended since conflicts with other packages may arise and your code may become less clear. For example (although a quite harmless one), both the `math` module and the `numpy` module contain a function called `sin`. \n",
    "```\n",
    "# Bad ways (!!) to import\n",
    "from math import *\n",
    "# or\n",
    "from math import pi, sin\n",
    "# Both would allow you to use pi and sin directly:\n",
    "# x = pi; y = sin(x)\n",
    "# print(x, y)\n",
    "```\n",
    "\n",
    "#### Exercise\n",
    "1. Execute the following code:\n",
    "```\n",
    "# Standard built-in sum function\n",
    "print(sum(range(5), -1))\n",
    "```\n",
    "```\n",
    "import numpy as np\n",
    "print(np.sum(range(5), -1))\n",
    "```\n",
    "and explain what would have happened had you used `from numpy import *` and `sum()` instead for the second print statement. (You can try this.)\n",
    " \n",
    "\n",
    "\n"
   ]
  },
  {
   "cell_type": "code",
   "execution_count": 43,
   "metadata": {
    "colab": {
     "base_uri": "https://localhost:8080/"
    },
    "id": "ZhEXIxANNe4e",
    "outputId": "fb66e1f8-3e64-45bd-efa8-6a9a31c6d1cb"
   },
   "outputs": [
    {
     "name": "stdout",
     "output_type": "stream",
     "text": [
      "9\n",
      "10\n",
      "Help on built-in function sum in module builtins:\n",
      "\n",
      "sum(iterable, /, start=0)\n",
      "    Return the sum of a 'start' value (default: 0) plus an iterable of numbers\n",
      "    \n",
      "    When the iterable is empty, return the start value.\n",
      "    This function is intended specifically for use with numeric values and may\n",
      "    reject non-numeric types.\n",
      "\n",
      "Help on function sum in module numpy:\n",
      "\n",
      "sum(a, axis=None, dtype=None, out=None, keepdims=<no value>, initial=<no value>, where=<no value>)\n",
      "    Sum of array elements over a given axis.\n",
      "    \n",
      "    Parameters\n",
      "    ----------\n",
      "    a : array_like\n",
      "        Elements to sum.\n",
      "    axis : None or int or tuple of ints, optional\n",
      "        Axis or axes along which a sum is performed.  The default,\n",
      "        axis=None, will sum all of the elements of the input array.  If\n",
      "        axis is negative it counts from the last to the first axis.\n",
      "    \n",
      "        .. versionadded:: 1.7.0\n",
      "    \n",
      "        If axis is a tuple of ints, a sum is performed on all of the axes\n",
      "        specified in the tuple instead of a single axis or all the axes as\n",
      "        before.\n",
      "    dtype : dtype, optional\n",
      "        The type of the returned array and of the accumulator in which the\n",
      "        elements are summed.  The dtype of `a` is used by default unless `a`\n",
      "        has an integer dtype of less precision than the default platform\n",
      "        integer.  In that case, if `a` is signed then the platform integer\n",
      "        is used while if `a` is unsigned then an unsigned integer of the\n",
      "        same precision as the platform integer is used.\n",
      "    out : ndarray, optional\n",
      "        Alternative output array in which to place the result. It must have\n",
      "        the same shape as the expected output, but the type of the output\n",
      "        values will be cast if necessary.\n",
      "    keepdims : bool, optional\n",
      "        If this is set to True, the axes which are reduced are left\n",
      "        in the result as dimensions with size one. With this option,\n",
      "        the result will broadcast correctly against the input array.\n",
      "    \n",
      "        If the default value is passed, then `keepdims` will not be\n",
      "        passed through to the `sum` method of sub-classes of\n",
      "        `ndarray`, however any non-default value will be.  If the\n",
      "        sub-class' method does not implement `keepdims` any\n",
      "        exceptions will be raised.\n",
      "    initial : scalar, optional\n",
      "        Starting value for the sum. See `~numpy.ufunc.reduce` for details.\n",
      "    \n",
      "        .. versionadded:: 1.15.0\n",
      "    \n",
      "    where : array_like of bool, optional\n",
      "        Elements to include in the sum. See `~numpy.ufunc.reduce` for details.\n",
      "    \n",
      "        .. versionadded:: 1.17.0\n",
      "    \n",
      "    Returns\n",
      "    -------\n",
      "    sum_along_axis : ndarray\n",
      "        An array with the same shape as `a`, with the specified\n",
      "        axis removed.   If `a` is a 0-d array, or if `axis` is None, a scalar\n",
      "        is returned.  If an output array is specified, a reference to\n",
      "        `out` is returned.\n",
      "    \n",
      "    See Also\n",
      "    --------\n",
      "    ndarray.sum : Equivalent method.\n",
      "    \n",
      "    add.reduce : Equivalent functionality of `add`.\n",
      "    \n",
      "    cumsum : Cumulative sum of array elements.\n",
      "    \n",
      "    trapz : Integration of array values using the composite trapezoidal rule.\n",
      "    \n",
      "    mean, average\n",
      "    \n",
      "    Notes\n",
      "    -----\n",
      "    Arithmetic is modular when using integer types, and no error is\n",
      "    raised on overflow.\n",
      "    \n",
      "    The sum of an empty array is the neutral element 0:\n",
      "    \n",
      "    >>> np.sum([])\n",
      "    0.0\n",
      "    \n",
      "    For floating point numbers the numerical precision of sum (and\n",
      "    ``np.add.reduce``) is in general limited by directly adding each number\n",
      "    individually to the result causing rounding errors in every step.\n",
      "    However, often numpy will use a  numerically better approach (partial\n",
      "    pairwise summation) leading to improved precision in many use-cases.\n",
      "    This improved precision is always provided when no ``axis`` is given.\n",
      "    When ``axis`` is given, it will depend on which axis is summed.\n",
      "    Technically, to provide the best speed possible, the improved precision\n",
      "    is only used when the summation is along the fast axis in memory.\n",
      "    Note that the exact precision may vary depending on other parameters.\n",
      "    In contrast to NumPy, Python's ``math.fsum`` function uses a slower but\n",
      "    more precise approach to summation.\n",
      "    Especially when summing a large number of lower precision floating point\n",
      "    numbers, such as ``float32``, numerical errors can become significant.\n",
      "    In such cases it can be advisable to use `dtype=\"float64\"` to use a higher\n",
      "    precision for the output.\n",
      "    \n",
      "    Examples\n",
      "    --------\n",
      "    >>> np.sum([0.5, 1.5])\n",
      "    2.0\n",
      "    >>> np.sum([0.5, 0.7, 0.2, 1.5], dtype=np.int32)\n",
      "    1\n",
      "    >>> np.sum([[0, 1], [0, 5]])\n",
      "    6\n",
      "    >>> np.sum([[0, 1], [0, 5]], axis=0)\n",
      "    array([0, 6])\n",
      "    >>> np.sum([[0, 1], [0, 5]], axis=1)\n",
      "    array([1, 5])\n",
      "    >>> np.sum([[0, 1], [np.nan, 5]], where=[False, True], axis=1)\n",
      "    array([1., 5.])\n",
      "    \n",
      "    If the accumulator is too small, overflow occurs:\n",
      "    \n",
      "    >>> np.ones(128, dtype=np.int8).sum(dtype=np.int8)\n",
      "    -128\n",
      "    \n",
      "    You can also start the sum with a value other than zero:\n",
      "    \n",
      "    >>> np.sum([10], initial=5)\n",
      "    15\n",
      "\n"
     ]
    }
   ],
   "source": [
    "# Standard built-in sum function\n",
    "print(sum(range(5), -1))\n",
    "import numpy as np\n",
    "print(np.sum(range(5), -1))\n",
    "help(sum)\n",
    "help(np.sum)"
   ]
  },
  {
   "cell_type": "markdown",
   "metadata": {
    "id": "Mw3RwWWzVo3j"
   },
   "source": [
    "### NumPy in a nutshell\n",
    "The Numerical Python package has several benefits over working with normal Python lists. This package contains a lot of functionality that is similar to matlab, see also [this comparison](https://numpy.org/devdocs/user/numpy-for-matlab-users.html).\n",
    "\n",
    "If you have not done so, import numpy with `import numpy as np`.\n",
    "1. Compare the value and type of `x1 = range(1,10)` and `x2 = np.arange(1,10)`. You will see that the numpy array belongs to the `ndarray` class, which represents vectors and matrices.\n",
    "2. Variables of the `ndarray` class can be used  directly in vector and matrix computations (much like in MATLAB). For example, the elements of an `ndarray` can be squared using `Array**2`. No loops required, not even list comprehension!\n",
    "3. As the name suggests, `ndarray`s can be *n*-dimensional, for example matrices. You can generate matrices and vectors using for example\n",
    "```\n",
    "M = np.array([[2, 1, 0], [1, 2, 1], [0, 1, 2]])\n",
    "I = np.identity(3)\n",
    "x = np.ones((1,3))\n",
    "y = np.array([[4], [5], [6]])\n",
    "```\n",
    "Do this and calculate Mx, Iy, and the outer expansion of xy. *Hint:* you can perform matrix multiplication using the `np.dot()` function or the `@` operator. A vector can be tranposed using `vec.T` or `np.transpose(vec)`.\n",
    "4. Use the `help()` function to learn more about all the methods and attributes an `ndarray` has. Print e.g. the size and shape of the arrays of the previous subquestion.\n",
    "\n",
    "\n",
    "\n",
    "More on NumPy in the third tutorial in this week."
   ]
  },
  {
   "cell_type": "code",
   "execution_count": null,
   "metadata": {
    "colab": {
     "base_uri": "https://localhost:8080/"
    },
    "id": "ia3KF3FAVtyA",
    "outputId": "5a584dc2-8bbb-433d-d330-94a661f83901"
   },
   "outputs": [],
   "source": []
  },
  {
   "cell_type": "markdown",
   "metadata": {
    "id": "hqxO9uqNVxv_"
   },
   "source": [
    "### Other useful packages for this course\n",
    "Next to NumPy, some othter interesting packages are \n",
    "- `matplotlib` for plotting, animating and other scientific visualization (last tutorial this week)\n",
    "- `scipy` for additional computational packages, like Fourier transforms and numerical integration and interpolation\n",
    "- `pickle` for saving and loading Python objects to and from disk\n",
    "- `pathlib` for interacting with local files.\n",
    "- `os`, `sys` interactions with operating system\n",
    "- `random` for pseudo-random numbers\n",
    "- `logging` for a more robust event logging system than using simple print statements\n",
    "- `pandas` for manipulation of mixed data arrays. It provides extended functionality based on numpy arrays in the form of a DataFrame or Series."
   ]
  },
  {
   "cell_type": "markdown",
   "metadata": {
    "id": "YBBjIo68v_Pq"
   },
   "source": [
    "# Other sources for learning Python\n",
    "\n",
    "As stated in the beginning of this document, this notebook is not meant to be a complete overview of the Python language - rather, it helps you to get started learning the language. Below you will find some excellent references:\n",
    "\n",
    "\n",
    "- [**The Hitchiker's guide to Python**](https://docs.python-guide.org): this online source covers many aspects of the language, and is fully community-developed\n",
    "- [**The official Python tutorial**](https://docs.python.org/3/tutorial/)\n",
    "- [**A Whirlwind Tour of Python** by Jake VanderPlas](https://www.oreilly.com/programming/free/files/a-whirlwind-tour-of-python.pdf) A short book covering basics of Python for those who have some background in programming (Parts of this tutorial are based on this book)\n",
    "\n"
   ]
  },
  {
   "cell_type": "code",
   "execution_count": null,
   "metadata": {
    "id": "eVSg-DW1v_Pr"
   },
   "outputs": [],
   "source": []
  }
 ],
 "metadata": {
  "colab": {
   "collapsed_sections": [],
   "provenance": []
  },
  "kernelspec": {
   "display_name": "Python 3 (ipykernel)",
   "language": "python",
   "name": "python3"
  },
  "language_info": {
   "codemirror_mode": {
    "name": "ipython",
    "version": 3
   },
   "file_extension": ".py",
   "mimetype": "text/x-python",
   "name": "python",
   "nbconvert_exporter": "python",
   "pygments_lexer": "ipython3",
   "version": "3.9.12"
  }
 },
 "nbformat": 4,
 "nbformat_minor": 4
}
