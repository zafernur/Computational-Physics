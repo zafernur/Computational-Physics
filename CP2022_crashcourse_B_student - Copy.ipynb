{
 "cells": [
  {
   "cell_type": "markdown",
   "metadata": {
    "id": "xjtK0fzOww7l"
   },
   "source": [
    "# Tutorial B: (some) best practices and debugging\n",
    "\n",
    "### Aim of this tutorial\n",
    "To provide you with  basic guidelines for writing good python code. You will learn:\n",
    "\n",
    "- To design the structure of your code by writing 'pseudocode'\n",
    "- Formatting guidelines for clearly written Python code\n",
    "- To fix erroneous code blocks via a more systematic debugging approach\n",
    "- Experience some of the intricacies of python and things can easily go wrong while writing code.\n",
    "- Practice with list comprehensions and functions\n",
    "\n"
   ]
  },
  {
   "cell_type": "markdown",
   "metadata": {
    "id": "0phoe93HSloi"
   },
   "source": [
    "## Part I: Structuring your code by writing pseudo-code\n",
    "\n",
    "Under the motto \"Think before you act\", it should come as no surprise that thinking critically about your program's structure before you actually start coding is useful. In this part of the tutorial, you will learn to develop pieces of **pseudocode**, which will help you to speed up your programming while keeping your code structured well. \n",
    "\n",
    "**What pseudocode is**: An informal description of the structure of your program (includes loops, conditional statements, which variables to update) that is *independent of the programming language.*\n",
    "\n",
    "**What pseudocode isn't**: A fully written-out copy of your to-be-written code.\n",
    "\n",
    "There are multiple benefits to writing down pseudocode before coding: not only does it speed up the coding itself, it also helps you to communicate how your code works to other people, helps you to find logical errors in your code, and enables you/others to transfer the code to other languages.\n",
    "\n",
    "#### Example: number-guessing game\n",
    "Consider the following example: You want to create a simple game, where you have to guess a number between 1 and 100, using the following criteria:\n",
    "\n",
    "- If your guess is wrong, you keep guessing (but the program should give a hint on whether your guess was either high or low )\n",
    "- If you guess right, the game should ask you whether you want to play again, and if so: re-initiate a new secret random number, or else: exit.\n",
    "- To taunt the player, have the game keep track and display the number of guesses.\n",
    "\n",
    "The below is an example of pseudocode for this game. Note that there are no set rules in writing pseudocode. Simply try to avoid programming language-specific syntax (a rule which we slightly break here by not ending loops), while highlighting which variables are updated, and how loops are initiated and ended. You can use words, mathematical symbols, operators, etc. if you like.\n",
    "\n",
    "    set secret_number = random int between 1 and 100 \n",
    "    initialize number_guesses as 0\n",
    "    set still_playing as True\n",
    "    \n",
    "    WHILE still_playing is True:\n",
    "\n",
    "        print \"Make a guess between 1 and 100\"\n",
    "        your_guess=ask for input number\n",
    "        add 1 to number_guesses \n",
    "        print \"amount of guesses is:\" number_guesses\n",
    "        IF your_guess is equal to secret_number:\n",
    "            print \"You won!\"\n",
    "            ask for input variable play_again \n",
    "            IF play_again is \"yes\":\n",
    "                set number_guesses to 0\n",
    "                reset secret_number to random int between 1 and 100\n",
    "            ELSE:\n",
    "                break out of loop\n",
    "\n",
    "        ELSE IF your_guess is smaller than secret_number:\n",
    "            print \"Too low!\"\n",
    "        ELSE IF your_guess is higher than secret_number:\n",
    "            print \"Too high!\"\n",
    "\n",
    "Chances are that you, even if you are new to the Python language, can translate the above code to actual code already within minutes. All the thinking went into the design of the code: executing the programming itself will go quickly now!\n",
    "\n",
    "\n",
    "Writing\n"
   ]
  },
  {
   "cell_type": "code",
   "execution_count": null,
   "metadata": {},
   "outputs": [],
   "source": [
    "from random import randrange\n",
    "\n",
    "secret_number = randrange(1, 100)\n",
    "number_guesses = 0\n",
    "still_playing = True\n",
    "\n",
    "while still_playing is True:\n",
    "    your_guess = int(input('Make a guess between 1 and 100...'))\n",
    "    number_guesses = number_guesses + 1\n",
    "    print('Amount of guesses is :', number_guesses)\n",
    "    if your_guess == secret_number:\n",
    "        print('You won!')\n",
    "        play_again = input('Play again?...')\n",
    "        if play_again == 'yes':\n",
    "            number_guesses = 0\n",
    "            secret_number = randrange(1, 100)\n",
    "        else:\n",
    "            break\n",
    "    elif your_guess < secret_number:\n",
    "        print('Too low!')\n",
    "    elif your_guess > secret_number:\n",
    "        print('Too high!')\n"
   ]
  },
  {
   "cell_type": "markdown",
   "metadata": {
    "id": "UepeUEpjdVvt"
   },
   "source": [
    "### Question 1: Fizz Buzz / Juffen\n",
    "\n",
    "In the game *Fizzbuzz*, a group of people turn-by-turn counts numbers. Whenever the current number is divisable by 3, the player has to say 'Fizz', and when the number is divisable by 5, the player has to say 'Buzz'. Whenever a number is divisable by both 3 and 5 at the same time (e.g. 15), then the player has to say 'Fizz Buzz'. Failing in doing so means that the player is eliminated. \n",
    "\n",
    "Likewise, in the Dutch game 'Juffen', a player has to say 'Juf' when the number contains a 7, or is divisable by 7.\n",
    "\n",
    "1. Choose one of the games to write pseudocode for (they should be rather similar) You can do so in the below code cell (for example, using commented-out code). The game should count up to 250 and follow the rules of the Fizz Buzz/Juffen games, meaning that the game either displays 'fizz,' 'buzz', 'fizz buzz' or the number itself in the Fizz Buzz game, or displays 'Juf' or the number itself in the 'Juffen' game, depending on the value of the number.\n",
    "2. When both you and a neighbor have written a pseudocode, compare them: Can you both read each others codes, and do you find that there are differences in how you approached the problem?\n",
    "3. Try to write the actual python code for the game, based on your pseudocode."
   ]
  },
  {
   "cell_type": "code",
   "execution_count": 13,
   "metadata": {
    "colab": {
     "base_uri": "https://localhost:8080/"
    },
    "executionInfo": {
     "elapsed": 7,
     "status": "ok",
     "timestamp": 1661845764538,
     "user": {
      "displayName": "Utku Gürel",
      "userId": "04968950052832262899"
     },
     "user_tz": -120
    },
    "id": "QiHgaYpoV59X",
    "outputId": "d86c0112-6fb3-423b-c8e0-62c4de9d496c"
   },
   "outputs": [
    {
     "name": "stdout",
     "output_type": "stream",
     "text": [
      "1\n",
      "2\n",
      "Fizz\n",
      "4\n",
      "Buzz\n",
      "Fizz\n",
      "7\n",
      "8\n",
      "Fizz\n",
      "Buzz\n",
      "11\n",
      "Fizz\n",
      "13\n",
      "14\n",
      "FizzBuzz\n",
      "16\n",
      "17\n",
      "Fizz\n",
      "19\n",
      "Buzz\n",
      "Fizz\n",
      "22\n",
      "23\n",
      "Fizz\n",
      "Buzz\n",
      "26\n",
      "Fizz\n",
      "28\n",
      "29\n",
      "FizzBuzz\n",
      "31\n",
      "32\n",
      "Fizz\n",
      "34\n",
      "Buzz\n",
      "Fizz\n",
      "37\n",
      "38\n",
      "Fizz\n",
      "Buzz\n",
      "41\n",
      "Fizz\n",
      "43\n",
      "44\n",
      "FizzBuzz\n",
      "46\n",
      "47\n",
      "Fizz\n",
      "49\n",
      "Buzz\n",
      "Fizz\n",
      "52\n",
      "53\n",
      "Fizz\n",
      "Buzz\n",
      "56\n",
      "Fizz\n",
      "58\n",
      "59\n",
      "FizzBuzz\n",
      "61\n",
      "62\n",
      "Fizz\n",
      "64\n",
      "Buzz\n",
      "Fizz\n",
      "67\n",
      "68\n",
      "Fizz\n",
      "Buzz\n",
      "71\n",
      "Fizz\n",
      "73\n",
      "74\n",
      "FizzBuzz\n",
      "76\n",
      "77\n",
      "Fizz\n",
      "79\n",
      "Buzz\n",
      "Fizz\n",
      "82\n",
      "83\n",
      "Fizz\n",
      "Buzz\n",
      "86\n",
      "Fizz\n",
      "88\n",
      "89\n",
      "FizzBuzz\n",
      "91\n",
      "92\n",
      "Fizz\n",
      "94\n",
      "Buzz\n",
      "Fizz\n",
      "97\n",
      "98\n",
      "Fizz\n",
      "Buzz\n",
      "101\n",
      "Fizz\n",
      "103\n",
      "104\n",
      "FizzBuzz\n",
      "106\n",
      "107\n",
      "Fizz\n",
      "109\n",
      "Buzz\n",
      "Fizz\n",
      "112\n",
      "113\n",
      "Fizz\n",
      "Buzz\n",
      "116\n",
      "Fizz\n",
      "118\n",
      "119\n",
      "FizzBuzz\n",
      "121\n",
      "122\n",
      "Fizz\n",
      "124\n",
      "Buzz\n",
      "Fizz\n",
      "127\n",
      "128\n",
      "Fizz\n",
      "Buzz\n",
      "131\n",
      "Fizz\n",
      "133\n",
      "134\n",
      "FizzBuzz\n",
      "136\n",
      "137\n",
      "Fizz\n",
      "139\n",
      "Buzz\n",
      "Fizz\n",
      "142\n",
      "143\n",
      "Fizz\n",
      "Buzz\n",
      "146\n",
      "Fizz\n",
      "148\n",
      "149\n",
      "FizzBuzz\n",
      "151\n",
      "152\n",
      "Fizz\n",
      "154\n",
      "Buzz\n",
      "Fizz\n",
      "157\n",
      "158\n",
      "Fizz\n",
      "Buzz\n",
      "161\n",
      "Fizz\n",
      "163\n",
      "164\n",
      "FizzBuzz\n",
      "166\n",
      "167\n",
      "Fizz\n",
      "169\n",
      "Buzz\n",
      "Fizz\n",
      "172\n",
      "173\n",
      "Fizz\n",
      "Buzz\n",
      "176\n",
      "Fizz\n",
      "178\n",
      "179\n",
      "FizzBuzz\n",
      "181\n",
      "182\n",
      "Fizz\n",
      "184\n",
      "Buzz\n",
      "Fizz\n",
      "187\n",
      "188\n",
      "Fizz\n",
      "Buzz\n",
      "191\n",
      "Fizz\n",
      "193\n",
      "194\n",
      "FizzBuzz\n",
      "196\n",
      "197\n",
      "Fizz\n",
      "199\n",
      "Buzz\n",
      "Fizz\n",
      "202\n",
      "203\n",
      "Fizz\n",
      "Buzz\n",
      "206\n",
      "Fizz\n",
      "208\n",
      "209\n",
      "FizzBuzz\n",
      "211\n",
      "212\n",
      "Fizz\n",
      "214\n",
      "Buzz\n",
      "Fizz\n",
      "217\n",
      "218\n",
      "Fizz\n",
      "Buzz\n",
      "221\n",
      "Fizz\n",
      "223\n",
      "224\n",
      "FizzBuzz\n",
      "226\n",
      "227\n",
      "Fizz\n",
      "229\n",
      "Buzz\n",
      "Fizz\n",
      "232\n",
      "233\n",
      "Fizz\n",
      "Buzz\n",
      "236\n",
      "Fizz\n",
      "238\n",
      "239\n",
      "FizzBuzz\n",
      "241\n",
      "242\n",
      "Fizz\n",
      "244\n",
      "Buzz\n",
      "Fizz\n",
      "247\n",
      "248\n",
      "Fizz\n",
      "Buzz\n"
     ]
    }
   ],
   "source": [
    "#start to count up to 250\n",
    "#   if current number divisable by 3:\n",
    "#       print Fizz on screen\n",
    "#   else if current number divisable by 5:\n",
    "#       print Buzz on screen\n",
    "#   else if current number divisable by 3 and 5:\n",
    "#       print FizzBuzz on screen\n",
    "#   else: print current number on screen\n",
    "\n",
    "for i in range(1, 251):\n",
    "    if i % 3 == 0 and i % 5 == 0:\n",
    "        print('FizzBuzz')\n",
    "    elif i % 5 == 0 and i % 3 != 0:\n",
    "        print('Buzz')\n",
    "    elif i % 3 == 0 and i % 5 != 0:\n",
    "        print('Fizz')\n",
    "    else:\n",
    "        print(i)"
   ]
  },
  {
   "cell_type": "markdown",
   "metadata": {
    "id": "ahBiOGFF9qUO"
   },
   "source": [
    "## Part II: Best practices, handy python tools and often made mistakes\n",
    "Now that you practiced how to 'build' your code before writing it, some guidelines for clear and concise coding are in place. Before we go on havin g you fix examples of bad coding, we provide some brief guidelines for writing your code below.\n",
    "\n",
    "### Intermezzo: Example guidelines on formatting your code: PEP8\n",
    "PEP8 is a formatting guideline written in the early 2000's. Sticking to it helps to keep your python code legible (a code is read more often than it is written!). You can find a condensed version below, adapted from https://docs.python.org/3/tutorial/controlflow.html#intermezzo-coding-style .\n",
    "\n",
    "\n",
    "- **Use 4-space indentation, and no tabs.** 4 spaces are a good compromise between small indentation (allows greater nesting depth) and large indentation (easier to read). Tabs introduce confusion, and are best left out. \n",
    "- **Wrap lines so that they don’t exceed 79 characters.** This helps users with small displays and makes it possible to have several code files side-by-side on larger displays. If you work on notebooks in Google Colaboratory, then you'll find a line indicating 80 characters\n",
    "- **Use blank lines to separate functions and classes, and larger blocks of code inside functions.**\n",
    "- **When possible, put comments on a line of their own.**\n",
    "- **Use docstrings (text between three double quotes) to explain functions**\n",
    "- **Use spaces around operators and after commas, but not directly inside bracketing constructs**: `a = f(1, 2) + g(3, 4)`.\n",
    "- **Name your classes, functions and variables consistently; a suggested convention is to use UpperCamelCase for classes and lowercase_with_underscores for functions and methods.** Always use `self` as the name for the first method argument.\n",
    "\n",
    "#### Note:\n",
    "\n",
    "- Although not per se mentioned in PEP8, it goes without saying that a clear and descriptive variable name will make your life easier in any case. \n",
    "- Note that there are no set-in-stone conventions. Most importantly, you should try to use any type of convention for naming variables etc. **consistently**. \n",
    "-That being said, using PEP8 is probably a good starting point. There are packages such as `pip8` and `black` that can help format a given python code using PIP8."
   ]
  },
  {
   "cell_type": "markdown",
   "metadata": {
    "id": "U1oUYh6snOgY"
   },
   "source": [
    "### List comprehensions and generator expressions\n",
    "You can make your code more legible (and less error-prone) by manipulting lists in efficient ways. In tutorial 1 you assigned list elements. In tutorial 3, you will work with some of the built-in functions for python lists. Here, you will learn about list comprehensions and generator expressions, which will help you to write efficient and clear code.\n",
    "##### List comprehension\n",
    "A very powerful feature in Python is list comprehension. It allows you to create lists in a very concise, compact manner, bypassing the need for writing loops to element-wise fill up the list. A very simple example is:\n",
    " ```\n",
    "squares = [(i+1)**2 for i in range(5)]\n",
    "```\n",
    "**Insert this command in the code-cell below and print the result**. This will create a list containing the squares of the numbers 1 to 5. There is no need to construct multiple lines of code including a for loop to create the list. It is almost readable English, isn't it?\n",
    "\n",
    "There are many more possibilities and you can make it as complicated as you want. Try to use list comprehensions for defining the following lists:\n",
    "- Print the list `odd` that contains all odd numbers between 0 and 20 (you can use an `if` and a modulo (`%`) statement)\n",
    "- Print the list `pos` of all numbers in a number range (-10,10), but only print the positive version (that is, multiply all the negative numbers with -1)\n",
    "- Print the list `ssq` of all numbers and their corresponding squares in a number range (-10,10). If a number is negative, print the negative square of the number.\n",
    "\n",
    "\n",
    "##### Generators (only if time allows)\n",
    "A related concept is the concept of generators. You can apply generators by using round brackets instead of square brackets in the example of the squares of 1-5 shown above. It will not generate the actual values, but only create a recipe to generate them when needed. An example is the `range` function we encountered before. This can save you lots of memory usage. Try the following:\n",
    "\n",
    "- Pick one of the above comprehensions\n",
    "- Build a generator using the same expression (give it a different name)\n",
    "- Print the both the generator and the output of the list comprehension, and their `types`\n",
    "- Loop over the contents of the generator and the output of the comprehension, and print each element. What do you see? Can you explain this?\n"
   ]
  },
  {
   "cell_type": "code",
   "execution_count": 31,
   "metadata": {
    "colab": {
     "base_uri": "https://localhost:8080/"
    },
    "executionInfo": {
     "elapsed": 221,
     "status": "ok",
     "timestamp": 1661845809882,
     "user": {
      "displayName": "Utku Gürel",
      "userId": "04968950052832262899"
     },
     "user_tz": -120
    },
    "id": "ve4R0dxbnT8R",
    "outputId": "bd524b8d-bdc0-4fc8-df85-f3630942be74"
   },
   "outputs": [
    {
     "name": "stdout",
     "output_type": "stream",
     "text": [
      "1\n",
      "4\n",
      "9\n",
      "16\n",
      "25\n",
      "1\n",
      "4\n",
      "9\n",
      "16\n",
      "25\n"
     ]
    }
   ],
   "source": [
    "squares = [(i+1)**2 for i in range(5)] # List comprehension\n",
    "print(squares, type(squares))\n",
    "squares2 = ((i+1)**2 for i in range(5)) # Generators\n",
    "print(squares2, type(squares2))\n",
    "for square in squares:\n",
    "    print(square)\n",
    "for square2 in squares2:\n",
    "    print(square2)\n",
    "#odds = [i for i in range(1,20,2)]\n",
    "#odds\n",
    "#pos = [abs(i) for i in range(-9,10)]\n",
    "#pos\n",
    "#ssq = [i for i in range(-9,10)] + [(i**2)*(-1) for i in range(-9,0)] + [i**2 for i in range(10)]\n",
    "#len(ssq)"
   ]
  },
  {
   "cell_type": "markdown",
   "metadata": {
    "id": "q1EAPUoRrmy6"
   },
   "source": [
    "### Functions\n",
    "\n",
    "Functions are reusable pieces of code that increase readability and modularity of your programs. They execute certain statements, possibly based on input arguments. At this point in the tutorials, you have already used many different built-in functions (take the `print()` function, for example). It is also possible to define your own functions using the `def` statement. For example\n",
    "```\n",
    "def sayHello():\n",
    "    print('Hello there!')\n",
    "```\n",
    "which can be called by writing `sayHello()`. It will then print 'Hello there!' to the screen. \n",
    "\n",
    "#### Functions with input and output\n",
    "You can write functions that have input arguments and/or return some value\n",
    "```\n",
    "def power(number, power):\n",
    "    return number**power\n",
    "```\n",
    "The function now requires one input argument, it is called by `y=power(x,p)` which will assign the value of `x**p` to the variable `y`.  You will get an error if no argument is given. To prevent this, it is also possible to give a default value or *keyword argument*, which value will then be taken when no input argument is specified:\n",
    "```\n",
    "def power(number=1, power=0):\n",
    "    return number**power\n",
    "```\n",
    "Now, `power()` will return the value 1, but if an argument is given, the number will be used.\n",
    "\n",
    "***Note:*** It is possible to make combinations, where part of the input arguments have default values, e.g. defining `power(number, power=0)`. However, be careful to define `power(number=1, power)` may give problems (you may try this).\n",
    "\n",
    "#### Flexible input arguments\n",
    "Flexible arguments can be used if the number of input arguments is not necessarily fixed. Indicating a * before a variable name gives variable-length single-value input (similar to MATLAB's varargin), ** gives variable-length keyword-value pairs inputs. Both can be empty. Applications include functions where additional settings can be specified, in no particular order. The example below illustrates how the function treats the input arguments.\n",
    "```\n",
    "def print_arguments(*args, **kwargs):\n",
    "    for a in args:\n",
    "        print(a)\n",
    "    for a in kwargs:\n",
    "        print(a, kwargs[a])\n",
    "```\n",
    "\n",
    "### Exercises\n",
    "1. Define and execute the functions `sayHello`, `power` and `print_arguments` above. Play with the inputs to learn how it works.\n",
    "2. Why would it be bad to define a function like `power(number=1, power)`?\n",
    "3. Define the list `list=[10, 2]` and the dictionairy `dict={'number': 10, 'power': 2}` and call the `power` functions above with `power(*list)` or `power(**dict)`. Note that lists (or tuples for that matter) require a single asterisk, and dictionairies require a double asterisk.\n",
    "4. Write a function that takes as input a number, and returns true or false depending on whether the number is 'perfect'. This means that all of the number's positive divisors summed together should form the original number itself. For example: 6 is a perfect number, since it is divisable by 1 2 and 3, and since 1+2+3=6.\n",
    "5. *Apply your function by building a list that contains all numbers that are 'perfect' between 0 and 100000. You can also use a list comprehension\n",
    "6. *You can find some more practice problems revolving around functions on https://www.w3resource.com/python-exercises/python-functions-exercises.php . Pick one or two that you like, and practice some more with defining functions.\n",
    "\n"
   ]
  },
  {
   "cell_type": "code",
   "execution_count": 33,
   "metadata": {
    "colab": {
     "base_uri": "https://localhost:8080/"
    },
    "executionInfo": {
     "elapsed": 424206,
     "status": "ok",
     "timestamp": 1661846711506,
     "user": {
      "displayName": "Utku Gürel",
      "userId": "04968950052832262899"
     },
     "user_tz": -120
    },
    "id": "Tv1zMgFEd0sZ",
    "outputId": "93506d45-55f5-4ff7-e458-71f519e35d91"
   },
   "outputs": [
    {
     "name": "stdout",
     "output_type": "stream",
     "text": [
      "Hello, world!\n"
     ]
    }
   ],
   "source": [
    "#1\n",
    "def sayHello():\n",
    "    print('Hello, world!')\n",
    "\n",
    "sayHello()"
   ]
  },
  {
   "cell_type": "code",
   "execution_count": 44,
   "metadata": {},
   "outputs": [
    {
     "name": "stdout",
     "output_type": "stream",
     "text": [
      "8\n"
     ]
    },
    {
     "ename": "TypeError",
     "evalue": "power() missing 2 required positional arguments: 'number' and 'power'",
     "output_type": "error",
     "traceback": [
      "\u001b[0;31m---------------------------------------------------------------------------\u001b[0m",
      "\u001b[0;31mTypeError\u001b[0m                                 Traceback (most recent call last)",
      "\u001b[1;32m/Volumes/GoogleDrive/My Drive/Computational Physics/CP2022_crashcourse_B_student - Copy.ipynb Cell 11\u001b[0m in \u001b[0;36m<cell line: 4>\u001b[0;34m()\u001b[0m\n\u001b[1;32m      <a href='vscode-notebook-cell:/Volumes/GoogleDrive/My%20Drive/Computational%20Physics/CP2022_crashcourse_B_student%20-%20Copy.ipynb#X23sZmlsZQ%3D%3D?line=1'>2</a>\u001b[0m     \u001b[39mreturn\u001b[39;00m number\u001b[39m*\u001b[39m\u001b[39m*\u001b[39mpower\n\u001b[1;32m      <a href='vscode-notebook-cell:/Volumes/GoogleDrive/My%20Drive/Computational%20Physics/CP2022_crashcourse_B_student%20-%20Copy.ipynb#X23sZmlsZQ%3D%3D?line=2'>3</a>\u001b[0m \u001b[39mprint\u001b[39m(power(\u001b[39m2\u001b[39m,\u001b[39m3\u001b[39m))\n\u001b[0;32m----> <a href='vscode-notebook-cell:/Volumes/GoogleDrive/My%20Drive/Computational%20Physics/CP2022_crashcourse_B_student%20-%20Copy.ipynb#X23sZmlsZQ%3D%3D?line=3'>4</a>\u001b[0m power()\n",
      "\u001b[0;31mTypeError\u001b[0m: power() missing 2 required positional arguments: 'number' and 'power'"
     ]
    }
   ],
   "source": [
    "def power(number, power):\n",
    "    return number**power\n",
    "print(power(2,3))\n",
    "power() # Error!"
   ]
  },
  {
   "cell_type": "code",
   "execution_count": 42,
   "metadata": {},
   "outputs": [
    {
     "name": "stdout",
     "output_type": "stream",
     "text": [
      "1\n"
     ]
    },
    {
     "data": {
      "text/plain": [
       "27"
      ]
     },
     "execution_count": 42,
     "metadata": {},
     "output_type": "execute_result"
    }
   ],
   "source": [
    "def power(number=1, power=0):\n",
    "    return number**power\n",
    "\n",
    "print(power()) # No problem with calling without input argument!\n",
    "power(3,3)"
   ]
  },
  {
   "cell_type": "code",
   "execution_count": 46,
   "metadata": {},
   "outputs": [
    {
     "name": "stdout",
     "output_type": "stream",
     "text": [
      "25\n",
      "1\n"
     ]
    },
    {
     "ename": "TypeError",
     "evalue": "power() missing 1 required positional argument: 'number'",
     "output_type": "error",
     "traceback": [
      "\u001b[0;31m---------------------------------------------------------------------------\u001b[0m",
      "\u001b[0;31mTypeError\u001b[0m                                 Traceback (most recent call last)",
      "\u001b[1;32m/Volumes/GoogleDrive/My Drive/Computational Physics/CP2022_crashcourse_B_student - Copy.ipynb Cell 13\u001b[0m in \u001b[0;36m<cell line: 6>\u001b[0;34m()\u001b[0m\n\u001b[1;32m      <a href='vscode-notebook-cell:/Volumes/GoogleDrive/My%20Drive/Computational%20Physics/CP2022_crashcourse_B_student%20-%20Copy.ipynb#X25sZmlsZQ%3D%3D?line=3'>4</a>\u001b[0m \u001b[39mprint\u001b[39m(power(\u001b[39m5\u001b[39m,\u001b[39m2\u001b[39m))\n\u001b[1;32m      <a href='vscode-notebook-cell:/Volumes/GoogleDrive/My%20Drive/Computational%20Physics/CP2022_crashcourse_B_student%20-%20Copy.ipynb#X25sZmlsZQ%3D%3D?line=4'>5</a>\u001b[0m \u001b[39mprint\u001b[39m(power(\u001b[39m2\u001b[39m))\n\u001b[0;32m----> <a href='vscode-notebook-cell:/Volumes/GoogleDrive/My%20Drive/Computational%20Physics/CP2022_crashcourse_B_student%20-%20Copy.ipynb#X25sZmlsZQ%3D%3D?line=5'>6</a>\u001b[0m power()\n",
      "\u001b[0;31mTypeError\u001b[0m: power() missing 1 required positional argument: 'number'"
     ]
    }
   ],
   "source": [
    "def power(number, power=0):\n",
    "    return number**power\n",
    "\n",
    "print(power(5,2))\n",
    "print(power(2))\n",
    "power()"
   ]
  },
  {
   "cell_type": "code",
   "execution_count": 51,
   "metadata": {},
   "outputs": [
    {
     "name": "stdout",
     "output_type": "stream",
     "text": [
      "a\n",
      "b\n",
      "c\n",
      "None\n",
      "a 1\n",
      "b 2\n",
      "c 3\n",
      "None\n"
     ]
    }
   ],
   "source": [
    "def print_arguments(*args, **kwargs):\n",
    "    for a in args:\n",
    "        print(a)\n",
    "    for a in kwargs:\n",
    "        print(a, kwargs[a])\n",
    "\n",
    "list = ['a', 'b', 'c']\n",
    "dict = {'a':1, 'b': 2, 'c': 3}\n",
    "print(print_arguments(*list))\n",
    "print(print_arguments(**dict))"
   ]
  },
  {
   "cell_type": "code",
   "execution_count": 47,
   "metadata": {},
   "outputs": [
    {
     "ename": "SyntaxError",
     "evalue": "non-default argument follows default argument (2422197068.py, line 1)",
     "output_type": "error",
     "traceback": [
      "\u001b[0;36m  Input \u001b[0;32mIn [47]\u001b[0;36m\u001b[0m\n\u001b[0;31m    def power(number=1, power):\u001b[0m\n\u001b[0m                             ^\u001b[0m\n\u001b[0;31mSyntaxError\u001b[0m\u001b[0;31m:\u001b[0m non-default argument follows default argument\n"
     ]
    }
   ],
   "source": [
    "#2\n",
    "def power(number=1, power): #When non-default arg follows default arg, function cannot be defined. It's a SyntaxError\n",
    "    return number**power\n",
    "\n",
    "print(power(5,2))\n",
    "print(power(5))\n",
    "power()"
   ]
  },
  {
   "cell_type": "code",
   "execution_count": 48,
   "metadata": {},
   "outputs": [
    {
     "name": "stdout",
     "output_type": "stream",
     "text": [
      "100\n",
      "100\n"
     ]
    }
   ],
   "source": [
    "#3\n",
    "def power(number, power):\n",
    "    return number**power\n",
    "\n",
    "list = [10,2]\n",
    "dict = {\"number\":10, \"power\":2}\n",
    "print(power(*list))\n",
    "print(power(**dict))"
   ]
  },
  {
   "cell_type": "code",
   "execution_count": 23,
   "metadata": {},
   "outputs": [
    {
     "ename": "KeyboardInterrupt",
     "evalue": "",
     "output_type": "error",
     "traceback": [
      "\u001b[0;31m---------------------------------------------------------------------------\u001b[0m",
      "\u001b[0;31mKeyboardInterrupt\u001b[0m                         Traceback (most recent call last)",
      "\u001b[1;32m/Volumes/GoogleDrive/My Drive/Computational Physics/CP2022_crashcourse_B_student - Copy.ipynb Cell 17\u001b[0m in \u001b[0;36m<cell line: 17>\u001b[0;34m()\u001b[0m\n\u001b[1;32m     <a href='vscode-notebook-cell:/Volumes/GoogleDrive/My%20Drive/Computational%20Physics/CP2022_crashcourse_B_student%20-%20Copy.ipynb#X32sZmlsZQ%3D%3D?line=13'>14</a>\u001b[0m     \u001b[39melse\u001b[39;00m:\n\u001b[1;32m     <a href='vscode-notebook-cell:/Volumes/GoogleDrive/My%20Drive/Computational%20Physics/CP2022_crashcourse_B_student%20-%20Copy.ipynb#X32sZmlsZQ%3D%3D?line=14'>15</a>\u001b[0m         \u001b[39mreturn\u001b[39;00m \u001b[39mFalse\u001b[39;00m\n\u001b[0;32m---> <a href='vscode-notebook-cell:/Volumes/GoogleDrive/My%20Drive/Computational%20Physics/CP2022_crashcourse_B_student%20-%20Copy.ipynb#X32sZmlsZQ%3D%3D?line=16'>17</a>\u001b[0m perfect_numbers \u001b[39m=\u001b[39m [perfect \u001b[39mfor\u001b[39;00m perfect \u001b[39min\u001b[39;00m \u001b[39mrange\u001b[39m(\u001b[39m1\u001b[39m,\u001b[39m100000\u001b[39m) \u001b[39mif\u001b[39;00m perfect_number(perfect)]\n\u001b[1;32m     <a href='vscode-notebook-cell:/Volumes/GoogleDrive/My%20Drive/Computational%20Physics/CP2022_crashcourse_B_student%20-%20Copy.ipynb#X32sZmlsZQ%3D%3D?line=17'>18</a>\u001b[0m perfect_numbers\n",
      "\u001b[1;32m/Volumes/GoogleDrive/My Drive/Computational Physics/CP2022_crashcourse_B_student - Copy.ipynb Cell 17\u001b[0m in \u001b[0;36m<listcomp>\u001b[0;34m(.0)\u001b[0m\n\u001b[1;32m     <a href='vscode-notebook-cell:/Volumes/GoogleDrive/My%20Drive/Computational%20Physics/CP2022_crashcourse_B_student%20-%20Copy.ipynb#X32sZmlsZQ%3D%3D?line=13'>14</a>\u001b[0m     \u001b[39melse\u001b[39;00m:\n\u001b[1;32m     <a href='vscode-notebook-cell:/Volumes/GoogleDrive/My%20Drive/Computational%20Physics/CP2022_crashcourse_B_student%20-%20Copy.ipynb#X32sZmlsZQ%3D%3D?line=14'>15</a>\u001b[0m         \u001b[39mreturn\u001b[39;00m \u001b[39mFalse\u001b[39;00m\n\u001b[0;32m---> <a href='vscode-notebook-cell:/Volumes/GoogleDrive/My%20Drive/Computational%20Physics/CP2022_crashcourse_B_student%20-%20Copy.ipynb#X32sZmlsZQ%3D%3D?line=16'>17</a>\u001b[0m perfect_numbers \u001b[39m=\u001b[39m [perfect \u001b[39mfor\u001b[39;00m perfect \u001b[39min\u001b[39;00m \u001b[39mrange\u001b[39m(\u001b[39m1\u001b[39m,\u001b[39m100000\u001b[39m) \u001b[39mif\u001b[39;00m perfect_number(perfect)]\n\u001b[1;32m     <a href='vscode-notebook-cell:/Volumes/GoogleDrive/My%20Drive/Computational%20Physics/CP2022_crashcourse_B_student%20-%20Copy.ipynb#X32sZmlsZQ%3D%3D?line=17'>18</a>\u001b[0m perfect_numbers\n",
      "\u001b[1;32m/Volumes/GoogleDrive/My Drive/Computational Physics/CP2022_crashcourse_B_student - Copy.ipynb Cell 17\u001b[0m in \u001b[0;36mperfect_number\u001b[0;34m(number)\u001b[0m\n\u001b[1;32m      <a href='vscode-notebook-cell:/Volumes/GoogleDrive/My%20Drive/Computational%20Physics/CP2022_crashcourse_B_student%20-%20Copy.ipynb#X32sZmlsZQ%3D%3D?line=5'>6</a>\u001b[0m \u001b[39m# The loop to find positive divisors.\u001b[39;00m\n\u001b[1;32m      <a href='vscode-notebook-cell:/Volumes/GoogleDrive/My%20Drive/Computational%20Physics/CP2022_crashcourse_B_student%20-%20Copy.ipynb#X32sZmlsZQ%3D%3D?line=6'>7</a>\u001b[0m \u001b[39mwhile\u001b[39;00m i \u001b[39m<\u001b[39m number:\n\u001b[0;32m----> <a href='vscode-notebook-cell:/Volumes/GoogleDrive/My%20Drive/Computational%20Physics/CP2022_crashcourse_B_student%20-%20Copy.ipynb#X32sZmlsZQ%3D%3D?line=7'>8</a>\u001b[0m     \u001b[39mif\u001b[39;00m number \u001b[39m%\u001b[39;49m i \u001b[39m==\u001b[39;49m \u001b[39m0\u001b[39;49m:\n\u001b[1;32m      <a href='vscode-notebook-cell:/Volumes/GoogleDrive/My%20Drive/Computational%20Physics/CP2022_crashcourse_B_student%20-%20Copy.ipynb#X32sZmlsZQ%3D%3D?line=8'>9</a>\u001b[0m         positive_divisors\u001b[39m.\u001b[39mappend(i)\n\u001b[1;32m     <a href='vscode-notebook-cell:/Volumes/GoogleDrive/My%20Drive/Computational%20Physics/CP2022_crashcourse_B_student%20-%20Copy.ipynb#X32sZmlsZQ%3D%3D?line=9'>10</a>\u001b[0m     i \u001b[39m=\u001b[39m i \u001b[39m+\u001b[39m \u001b[39m1\u001b[39m\n",
      "\u001b[0;31mKeyboardInterrupt\u001b[0m: "
     ]
    }
   ],
   "source": [
    "#4\n",
    "def perfect_number(number):\n",
    "    i = 1\n",
    "    positive_divisors = [] \n",
    "    \n",
    "    # The loop to find positive divisors.\n",
    "    while i < number:\n",
    "        if number % i == 0:\n",
    "            positive_divisors.append(i)\n",
    "        i = i + 1\n",
    "    \n",
    "    if sum(positive_divisors) == number:\n",
    "        return True\n",
    "    else:\n",
    "        return False\n",
    "\n",
    "perfect_numbers = [perfect for perfect in range(1,100000) if perfect_number(perfect)]\n",
    "perfect_numbers"
   ]
  },
  {
   "cell_type": "markdown",
   "metadata": {
    "id": "zpKzGYu7ww7p"
   },
   "source": [
    "\n",
    "\n",
    "\n",
    "### Some often-made mistakes (and how not to make them)\n",
    "in this part of the tutorial, we will ask you to purposedly make some mistakes, such that you can learn how to fix (and prevent) them.\n",
    "\n",
    "### Exercises:\n",
    "\n",
    "Use the below code cell (or insert additional cells) to do the below short exercises.\n",
    "- Assign a numerical value to a variable that has a name starting with a number. What does the code cell return upon execution, and why is this a bad idea?\n",
    "- Make a list `some_list = [1 2 3 4 5 6 7 8]`, and build a loop over its contents. Add a statement to the loop (use `%` for example) that removes a number from the list if it is even. Why should you never do this?\n",
    "\n",
    "#### Exercises on memory allocation\n",
    "- Set a variable `a` equal to 10, and copy the variable into the variable `b` via a direct assignment (`b = a`). Now, `print` the variable `a`. Did anything change? \n",
    "- Repeat the above using a list: assign a first list, for example `list_a = ['ab', 'cd',['ef', 'gh']]`, and copy it into a second list, named `list_b`. If you change any of the contents of the sub-list in `list_b` (i.e. use `list_b[2][1]`) and print `list_a`, did anything change? \n",
    "- Chances are that you found that the above alteration of `list_b` changed `list_a`! This issue arises from the way in which Python assigns memory slots to objects. You can check whether variables point to the same memory slot through `print(hex(id(variable_name)))`. Experiment using this set of commands to determine whether both `list_a`,  `list_b` and their sub-lists point to the same memory slots.\n",
    "- Repeat the previous list assignments, but first import the `copy` package, and make a copy of `list_a` using `list_b = copy.deepcopy(list_a)`. This package makes a new copy in the memory of a variable, and helps you evade this problem.\n",
    "\n",
    "\n",
    "\n",
    "Some of these examples were adapted from: https://docs.python-guide.org/writing/style/ , where you can find more info on 'proper' programming style.\n",
    "\n",
    "\n",
    "\n"
   ]
  },
  {
   "cell_type": "code",
   "execution_count": 24,
   "metadata": {
    "id": "g-MQaNsMjfWf"
   },
   "outputs": [
    {
     "ename": "SyntaxError",
     "evalue": "invalid decimal literal (2750281096.py, line 1)",
     "output_type": "error",
     "traceback": [
      "\u001b[0;36m  Input \u001b[0;32mIn [24]\u001b[0;36m\u001b[0m\n\u001b[0;31m    3_aata = 45\u001b[0m\n\u001b[0m     ^\u001b[0m\n\u001b[0;31mSyntaxError\u001b[0m\u001b[0;31m:\u001b[0m invalid decimal literal\n"
     ]
    }
   ],
   "source": [
    "3_aata = 45 # SyntaxError. You cannot start a variable's name with a number!\n",
    "3_aata"
   ]
  },
  {
   "cell_type": "code",
   "execution_count": 25,
   "metadata": {},
   "outputs": [
    {
     "ename": "IndexError",
     "evalue": "pop index out of range",
     "output_type": "error",
     "traceback": [
      "\u001b[0;31m---------------------------------------------------------------------------\u001b[0m",
      "\u001b[0;31mIndexError\u001b[0m                                Traceback (most recent call last)",
      "\u001b[1;32m/Volumes/GoogleDrive/My Drive/Computational Physics/CP2022_crashcourse_B_student - Copy.ipynb Cell 20\u001b[0m in \u001b[0;36m<cell line: 3>\u001b[0;34m()\u001b[0m\n\u001b[1;32m      <a href='vscode-notebook-cell:/Volumes/GoogleDrive/My%20Drive/Computational%20Physics/CP2022_crashcourse_B_student%20-%20Copy.ipynb#X33sZmlsZQ%3D%3D?line=2'>3</a>\u001b[0m \u001b[39mfor\u001b[39;00m i \u001b[39min\u001b[39;00m \u001b[39mlist\u001b[39m:\n\u001b[1;32m      <a href='vscode-notebook-cell:/Volumes/GoogleDrive/My%20Drive/Computational%20Physics/CP2022_crashcourse_B_student%20-%20Copy.ipynb#X33sZmlsZQ%3D%3D?line=3'>4</a>\u001b[0m     \u001b[39mif\u001b[39;00m i \u001b[39m%\u001b[39m \u001b[39m2\u001b[39m \u001b[39m==\u001b[39m \u001b[39m0\u001b[39m:\n\u001b[0;32m----> <a href='vscode-notebook-cell:/Volumes/GoogleDrive/My%20Drive/Computational%20Physics/CP2022_crashcourse_B_student%20-%20Copy.ipynb#X33sZmlsZQ%3D%3D?line=4'>5</a>\u001b[0m         \u001b[39mlist\u001b[39;49m\u001b[39m.\u001b[39;49mpop(i)\n\u001b[1;32m      <a href='vscode-notebook-cell:/Volumes/GoogleDrive/My%20Drive/Computational%20Physics/CP2022_crashcourse_B_student%20-%20Copy.ipynb#X33sZmlsZQ%3D%3D?line=5'>6</a>\u001b[0m \u001b[39mprint\u001b[39m(\u001b[39mlist\u001b[39m)\n",
      "\u001b[0;31mIndexError\u001b[0m: pop index out of range"
     ]
    }
   ],
   "source": [
    "list = [1, 2, 3, 4, 5, 6, 7, 8, 9, 10]\n",
    "\n",
    "for i in list:\n",
    "    if i % 2 == 0:\n",
    "        list.pop(i) # Since .pop() removes element from list, indeces are changing, and for loop is breaking down.\n",
    "print(list)"
   ]
  },
  {
   "cell_type": "code",
   "execution_count": 26,
   "metadata": {},
   "outputs": [
    {
     "name": "stdout",
     "output_type": "stream",
     "text": [
      "10\n"
     ]
    }
   ],
   "source": [
    "a = 10\n",
    "b = a\n",
    "print(a)"
   ]
  },
  {
   "cell_type": "code",
   "execution_count": 28,
   "metadata": {},
   "outputs": [
    {
     "name": "stdout",
     "output_type": "stream",
     "text": [
      "['ab', 'cd', ['ef', 'aa']]\n"
     ]
    }
   ],
   "source": [
    "list_a = ['ab', 'cd',['ef', 'gh']]\n",
    "list_b = list_a\n",
    "list_b[2][1] = 'aa'\n",
    "print(list_a)"
   ]
  },
  {
   "cell_type": "code",
   "execution_count": 29,
   "metadata": {},
   "outputs": [
    {
     "data": {
      "text/plain": [
       "True"
      ]
     },
     "execution_count": 29,
     "metadata": {},
     "output_type": "execute_result"
    }
   ],
   "source": [
    "hex(id(list_a)) == hex(id(list_b)) # They are identical, in the same memory slot. If one of them changes,\n",
    "                                   # other changes either."
   ]
  },
  {
   "cell_type": "code",
   "execution_count": 32,
   "metadata": {},
   "outputs": [
    {
     "name": "stdout",
     "output_type": "stream",
     "text": [
      "['ab', 'cd', ['ef', 'gh']]\n",
      "['ab', 'cd', ['ef', 'aa']]\n"
     ]
    },
    {
     "data": {
      "text/plain": [
       "False"
      ]
     },
     "execution_count": 32,
     "metadata": {},
     "output_type": "execute_result"
    }
   ],
   "source": [
    "import copy\n",
    "\n",
    "list_a = ['ab', 'cd',['ef', 'gh']]\n",
    "list_b = copy.deepcopy(list_a)\n",
    "list_b[2][1] = 'aa'\n",
    "print(list_a)\n",
    "print(list_b)\n",
    "hex(id(list_a)) == hex(id(list_b)) # They are different objects now!"
   ]
  },
  {
   "cell_type": "markdown",
   "metadata": {
    "id": "FJZKWdv4jhyt"
   },
   "source": [
    "### Writing better code: Try to fix the below examples of bad/inefficient code"
   ]
  },
  {
   "cell_type": "code",
   "execution_count": 35,
   "metadata": {},
   "outputs": [
    {
     "name": "stdout",
     "output_type": "stream",
     "text": [
      "1\n",
      "2\n",
      "3\n",
      "4\n"
     ]
    }
   ],
   "source": [
    "a = [1, 2, 3, 4]\n",
    "\n",
    "#BAD;\n",
    "#for i in range(len(a)):\n",
    "#    print(a[i])\n",
    "\n",
    "#BETTER:\n",
    "\n",
    "for i in a:\n",
    "    print(a[i-1])   "
   ]
  },
  {
   "cell_type": "code",
   "execution_count": 4,
   "metadata": {},
   "outputs": [
    {
     "name": "stdout",
     "output_type": "stream",
     "text": [
      "attr is None\n"
     ]
    }
   ],
   "source": [
    "attr = None\n",
    "if attr:\n",
    "    print('True')\n",
    "if not attr:\n",
    "    print('attr is None')"
   ]
  },
  {
   "cell_type": "code",
   "execution_count": null,
   "metadata": {
    "colab": {
     "base_uri": "https://localhost:8080/"
    },
    "executionInfo": {
     "elapsed": 9,
     "status": "ok",
     "timestamp": 1661846711753,
     "user": {
      "displayName": "Utku Gürel",
      "userId": "04968950052832262899"
     },
     "user_tz": -120
    },
    "id": "dETUisOuww7q",
    "outputId": "41d41e9b-abf7-4d25-e46f-003c94924dbc"
   },
   "outputs": [],
   "source": [
    "#The below examples are cases where the built-in syntax of python is more useful\n",
    "#than what you might be tempted to write. How can you improve the code snippets?\n",
    "a = [1, 2, 3, 4]\n",
    "\n",
    "#BAD;\n",
    "for i in range(len(a)):\n",
    "    print(a[i])\n",
    "\n",
    "#BETTER:\n",
    "\n",
    "for i in a:\n",
    "    print(a[i-1])   \n",
    "#Try to simplify the below conditional statements using if/ if not\n",
    "\n",
    "#BAD:\n",
    "attr=None\n",
    "if attr == True:\n",
    "    print('True!')\n",
    "if attr == None:\n",
    "    print('attr is None!')\n",
    "\n",
    "#BETTER:\n",
    "attr = None\n",
    "if attr:\n",
    "    print('True')\n",
    "if not attr:\n",
    "    print('attr is None')\n",
    "\n",
    "#BAD:\n",
    "for i in a:\n",
    "    if i > 4:\n",
    "        a.remove(i)\n",
    "print(a)\n",
    "\n",
    "#BETTER:\n",
    "i = 0\n",
    "while a[i] > 4:\n",
    "    a.remove(a[i])\n",
    "    i = i + 1\n",
    "print(a)\n",
    "\n",
    "\n",
    "################## Example 2\n",
    "x=1\n",
    "y=1\n",
    "#BAD:\n",
    "def checkxy(x,y):\n",
    "    if x == y:\n",
    "        return True\n",
    "    else:\n",
    "        return False\n",
    "checkxy(x,y)\n",
    "#BETTER:\n",
    "\n",
    "\n",
    "\n",
    "#BAD:\n",
    "i = 0\n",
    "while i < len(first_list):\n",
    "    other_list.append(first_list[i])\n",
    "    i = i + 1 \n",
    "    \n",
    "#BETTER:\n",
    "\n"
   ]
  },
  {
   "cell_type": "markdown",
   "metadata": {
    "id": "tJlmt_9oaT65"
   },
   "source": [
    "#### Takeaways:\n",
    "\n",
    "- As a rule of thumb: if you suspect that your piece of code is inefficient, it probably is (that doesn't always have to be a problem). \n",
    "- Corollary: if you wonder whether Python has a more simple way of achieving what you are trying to do, the answer is probably: yes. See, for example, [the overview of built-in python functions](https://docs.python.org/3/library/functions.html) for an overview of functions that might exactly do what you are trying to code by hand.\n"
   ]
  },
  {
   "cell_type": "markdown",
   "metadata": {
    "id": "-W1TltfDcOjm"
   },
   "source": [
    "## Part III: Some notes on debugging\n",
    "\n",
    "One of the most puzzling and frustrating aspects of programming is debugging. Below we provide some tips for debugging your code, which might come in handy throughout this course.\n",
    "\n",
    "#### Debugging tips:\n",
    "\n",
    "##### General advice:\n",
    "- **Try to think of your code structure before writing (i.e. write pseudocode first!)**. See the above section on pseudocode.\n",
    "- **Build in simple checks while working on your code, and remove them afterwards**. Example: Let's say your code operates on an array of a certain size, or calculates a quantity that has a known property (for example, always larger than a certainva lue). Build in simple if-statements that print an error message (or stop the code) when the array size changes, or the value of the quantity reaches a forbidden value. This helps you to track down problems in an earlier stage (don't forget to remove the checks afterwards!)\n",
    "- **Use logging while developing your code.** Have your code print things like indices, lists/their elements, data types, memory locations (in case you copy variables into different variables) which part of the code it is currently executing, etc. You can always remove the statements afterwards. This helps you confirm that the code is indeed operating according to plan. Alternatively, you can print these statements to a file, or use a dedicated logging module.\n",
    "- **Change one thing at a time**. Generally, don't run the code only after writing large chunks. Where possible, try to run the code as often as possible to track bugs earlier on.\n",
    "\n",
    "##### When encountering a Python error message:\n",
    "- **Use the internet (yes really)**. A perk of Python is that its error messages are recognizable. You can often paste your error message into Google, and search on dedicated programming-help websites like StackOverflow for where your error comes from, and how to solve it.\n",
    "- **Print the data types and output of the involved variables**. Oftentimes, you are trying an operation on a data type that doesn't allow said operation, or you are trying to reconcile objects with different dimensions. `print(type())` and `print(size())` are your friends.\n",
    "- If you want to be more thorough with your debugging, you can look at using the `logging` module to add extra control to your output statements (this will be talked about in a lecture on coding practices).\n",
    "\n",
    "##### When your code does not do what it should do, but you don't know why\n",
    "\n",
    "- **First of all: try to reproduce the problem**. A large part in finding where the erroneous behavior comes from consists of finding the circumstances during which the behavior occurs. Look critically at your input, and try to print variables and output while you are waiting for your bug to occur.\n",
    "- **Try to come up with a good test case:** Is there any expected output when you provide a specific input?\n",
    "- **Execute the smallest possible part of the code that leads to reproduction of your bug**. Once you have found an input that consistently leads to a bug and have a reference output,  try to narrow down on the part of the code where the erroneous output comes from. This process is iterative in the sense that it might in the end lead you down into different functions etc.\n",
    "- **Tackling the specific bug:** At this point, there are many, many things that might have gone wrong. Use a combination of logging, checks and visualizations (i.e. printing or plotting) to determine what your exact problem is. An option that we will not discuss here, but which is available (and used) is the python debugger. For instructions on how to use the python debugger, see for example \n",
    "\n",
    "\n",
    "\n"
   ]
  },
  {
   "cell_type": "markdown",
   "metadata": {
    "id": "KeHtmNPM19bu"
   },
   "source": [
    "### From here on:\n",
    "\n",
    "In this tutorial, we have given you an overview of programming concepts, such as pseudocode, functions, python-specific aids (list comprehensions), shown some you often-made mistakes, and highlighted some debugging strategies. If you got to this point of the tutorial and still have plenty of time left, consider applying these skills to some of the problems on https://projecteuler.net/archives . These problems are mathematical in nature, and can be solved by writing a simple piece of python code, where you will need many of the concepts that you have learned during this and the previous tutorial.\n"
   ]
  }
 ],
 "metadata": {
  "colab": {
   "collapsed_sections": [],
   "name": "CP2022_crashcourse_B.ipynb",
   "provenance": []
  },
  "kernelspec": {
   "display_name": "Python 3.9.12 ('base')",
   "language": "python",
   "name": "python3"
  },
  "language_info": {
   "codemirror_mode": {
    "name": "ipython",
    "version": 3
   },
   "file_extension": ".py",
   "mimetype": "text/x-python",
   "name": "python",
   "nbconvert_exporter": "python",
   "pygments_lexer": "ipython3",
   "version": "3.9.12"
  },
  "vscode": {
   "interpreter": {
    "hash": "3d597f4c481aa0f25dceb95d2a0067e73c0966dcbd003d741d821a7208527ecf"
   }
  }
 },
 "nbformat": 4,
 "nbformat_minor": 1
}
